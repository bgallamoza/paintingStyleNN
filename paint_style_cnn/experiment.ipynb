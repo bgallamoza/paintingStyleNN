{
 "cells": [
  {
   "cell_type": "code",
   "execution_count": 26,
   "metadata": {},
   "outputs": [],
   "source": [
    "import pandas as pd\n",
    "import numpy as np\n",
    "import matplotlib.pyplot as plt\n",
    "import gzip, pickletools, pickle\n",
    "import os"
   ]
  },
  {
   "cell_type": "code",
   "execution_count": 27,
   "metadata": {},
   "outputs": [
    {
     "data": {
      "text/plain": [
       "'c:\\\\PYTHON\\\\PROJECTS\\\\paintStyleCNN\\\\paint_style_cnn'"
      ]
     },
     "execution_count": 27,
     "metadata": {},
     "output_type": "execute_result"
    }
   ],
   "source": [
    "os.getcwd()"
   ]
  },
  {
   "cell_type": "code",
   "execution_count": 28,
   "metadata": {},
   "outputs": [
    {
     "data": {
      "text/html": [
       "<div>\n",
       "<style scoped>\n",
       "    .dataframe tbody tr th:only-of-type {\n",
       "        vertical-align: middle;\n",
       "    }\n",
       "\n",
       "    .dataframe tbody tr th {\n",
       "        vertical-align: top;\n",
       "    }\n",
       "\n",
       "    .dataframe thead th {\n",
       "        text-align: right;\n",
       "    }\n",
       "</style>\n",
       "<table border=\"1\" class=\"dataframe\">\n",
       "  <thead>\n",
       "    <tr style=\"text-align: right;\">\n",
       "      <th></th>\n",
       "      <th>data</th>\n",
       "      <th>label</th>\n",
       "    </tr>\n",
       "  </thead>\n",
       "  <tbody>\n",
       "    <tr>\n",
       "      <th>0</th>\n",
       "      <td>[[[135, 123, 109], [97, 87, 78], [92, 83, 86],...</td>\n",
       "      <td>Impressionism Painting</td>\n",
       "    </tr>\n",
       "    <tr>\n",
       "      <th>1</th>\n",
       "      <td>[[[207, 206, 113], [203, 200, 105], [215, 208,...</td>\n",
       "      <td>Impressionism Painting</td>\n",
       "    </tr>\n",
       "    <tr>\n",
       "      <th>2</th>\n",
       "      <td>[[[10, 9, 15], [11, 10, 16], [11, 10, 16], [13...</td>\n",
       "      <td>Impressionism Painting</td>\n",
       "    </tr>\n",
       "    <tr>\n",
       "      <th>3</th>\n",
       "      <td>[[[35, 34, 29], [31, 30, 25], [51, 50, 45], [3...</td>\n",
       "      <td>Impressionism Painting</td>\n",
       "    </tr>\n",
       "    <tr>\n",
       "      <th>4</th>\n",
       "      <td>[[[158, 147, 141], [166, 155, 149], [153, 142,...</td>\n",
       "      <td>Impressionism Painting</td>\n",
       "    </tr>\n",
       "    <tr>\n",
       "      <th>...</th>\n",
       "      <td>...</td>\n",
       "      <td>...</td>\n",
       "    </tr>\n",
       "    <tr>\n",
       "      <th>1457</th>\n",
       "      <td>[[[78, 88, 89], [81, 91, 92], [80, 91, 93], [7...</td>\n",
       "      <td>Northern Renaissance Painting</td>\n",
       "    </tr>\n",
       "    <tr>\n",
       "      <th>1458</th>\n",
       "      <td>[[[2, 2, 2], [2, 2, 2], [2, 2, 2], [2, 2, 2], ...</td>\n",
       "      <td>Northern Renaissance Painting</td>\n",
       "    </tr>\n",
       "    <tr>\n",
       "      <th>1459</th>\n",
       "      <td>[[[0, 0, 0], [0, 0, 0], [0, 0, 0], [0, 0, 0], ...</td>\n",
       "      <td>Northern Renaissance Painting</td>\n",
       "    </tr>\n",
       "    <tr>\n",
       "      <th>1460</th>\n",
       "      <td>[[[2, 3, 5], [2, 3, 5], [2, 3, 5], [2, 3, 5], ...</td>\n",
       "      <td>Northern Renaissance Painting</td>\n",
       "    </tr>\n",
       "    <tr>\n",
       "      <th>1461</th>\n",
       "      <td>[[[255, 255, 255], [255, 255, 255], [255, 255,...</td>\n",
       "      <td>Northern Renaissance Painting</td>\n",
       "    </tr>\n",
       "  </tbody>\n",
       "</table>\n",
       "<p>1462 rows × 2 columns</p>\n",
       "</div>"
      ],
      "text/plain": [
       "                                                   data  \\\n",
       "0     [[[135, 123, 109], [97, 87, 78], [92, 83, 86],...   \n",
       "1     [[[207, 206, 113], [203, 200, 105], [215, 208,...   \n",
       "2     [[[10, 9, 15], [11, 10, 16], [11, 10, 16], [13...   \n",
       "3     [[[35, 34, 29], [31, 30, 25], [51, 50, 45], [3...   \n",
       "4     [[[158, 147, 141], [166, 155, 149], [153, 142,...   \n",
       "...                                                 ...   \n",
       "1457  [[[78, 88, 89], [81, 91, 92], [80, 91, 93], [7...   \n",
       "1458  [[[2, 2, 2], [2, 2, 2], [2, 2, 2], [2, 2, 2], ...   \n",
       "1459  [[[0, 0, 0], [0, 0, 0], [0, 0, 0], [0, 0, 0], ...   \n",
       "1460  [[[2, 3, 5], [2, 3, 5], [2, 3, 5], [2, 3, 5], ...   \n",
       "1461  [[[255, 255, 255], [255, 255, 255], [255, 255,...   \n",
       "\n",
       "                              label  \n",
       "0            Impressionism Painting  \n",
       "1            Impressionism Painting  \n",
       "2            Impressionism Painting  \n",
       "3            Impressionism Painting  \n",
       "4            Impressionism Painting  \n",
       "...                             ...  \n",
       "1457  Northern Renaissance Painting  \n",
       "1458  Northern Renaissance Painting  \n",
       "1459  Northern Renaissance Painting  \n",
       "1460  Northern Renaissance Painting  \n",
       "1461  Northern Renaissance Painting  \n",
       "\n",
       "[1462 rows x 2 columns]"
      ]
     },
     "execution_count": 28,
     "metadata": {},
     "output_type": "execute_result"
    }
   ],
   "source": [
    "# Open gzipped raw dataset\n",
    "with gzip.open(\"../data/raw_img_arrays.pickle\", 'rb') as f:\n",
    "    p = pickle.Unpickler(f)\n",
    "    df = p.load()\n",
    "\n",
    "df"
   ]
  },
  {
   "cell_type": "code",
   "execution_count": 9,
   "metadata": {},
   "outputs": [
    {
     "name": "stdout",
     "output_type": "stream",
     "text": [
      "Total null values:  31\n",
      "                               data\n",
      "label                              \n",
      "Baroque Painting                136\n",
      "Cubism Painting                 133\n",
      "Expressionism Painting          134\n",
      "Impressionism Painting          134\n",
      "Neoclassicism Painting          130\n",
      "Northern Renaissance Painting   129\n",
      "Post Impressionism Painting     131\n",
      "Rococo Painting                 100\n",
      "Romanticism Painting            133\n",
      "Surrealism Painting             135\n",
      "Symbolism Painting              136\n"
     ]
    }
   ],
   "source": [
    "print('Total null values: ', df['data'].isnull().sum())\n",
    "print(df.groupby('label').count())"
   ]
  },
  {
   "cell_type": "code",
   "execution_count": 12,
   "metadata": {},
   "outputs": [
    {
     "data": {
      "text/html": [
       "<div>\n",
       "<style scoped>\n",
       "    .dataframe tbody tr th:only-of-type {\n",
       "        vertical-align: middle;\n",
       "    }\n",
       "\n",
       "    .dataframe tbody tr th {\n",
       "        vertical-align: top;\n",
       "    }\n",
       "\n",
       "    .dataframe thead th {\n",
       "        text-align: right;\n",
       "    }\n",
       "</style>\n",
       "<table border=\"1\" class=\"dataframe\">\n",
       "  <thead>\n",
       "    <tr style=\"text-align: right;\">\n",
       "      <th></th>\n",
       "      <th>data</th>\n",
       "    </tr>\n",
       "    <tr>\n",
       "      <th>label</th>\n",
       "      <th></th>\n",
       "    </tr>\n",
       "  </thead>\n",
       "  <tbody>\n",
       "    <tr>\n",
       "      <th>Baroque Painting</th>\n",
       "      <td>136</td>\n",
       "    </tr>\n",
       "    <tr>\n",
       "      <th>Cubism Painting</th>\n",
       "      <td>133</td>\n",
       "    </tr>\n",
       "    <tr>\n",
       "      <th>Expressionism Painting</th>\n",
       "      <td>134</td>\n",
       "    </tr>\n",
       "    <tr>\n",
       "      <th>Impressionism Painting</th>\n",
       "      <td>134</td>\n",
       "    </tr>\n",
       "    <tr>\n",
       "      <th>Neoclassicism Painting</th>\n",
       "      <td>130</td>\n",
       "    </tr>\n",
       "    <tr>\n",
       "      <th>Northern Renaissance Painting</th>\n",
       "      <td>129</td>\n",
       "    </tr>\n",
       "    <tr>\n",
       "      <th>Post Impressionism Painting</th>\n",
       "      <td>131</td>\n",
       "    </tr>\n",
       "    <tr>\n",
       "      <th>Rococo Painting</th>\n",
       "      <td>100</td>\n",
       "    </tr>\n",
       "    <tr>\n",
       "      <th>Romanticism Painting</th>\n",
       "      <td>133</td>\n",
       "    </tr>\n",
       "    <tr>\n",
       "      <th>Surrealism Painting</th>\n",
       "      <td>135</td>\n",
       "    </tr>\n",
       "    <tr>\n",
       "      <th>Symbolism Painting</th>\n",
       "      <td>136</td>\n",
       "    </tr>\n",
       "  </tbody>\n",
       "</table>\n",
       "</div>"
      ],
      "text/plain": [
       "                               data\n",
       "label                              \n",
       "Baroque Painting                136\n",
       "Cubism Painting                 133\n",
       "Expressionism Painting          134\n",
       "Impressionism Painting          134\n",
       "Neoclassicism Painting          130\n",
       "Northern Renaissance Painting   129\n",
       "Post Impressionism Painting     131\n",
       "Rococo Painting                 100\n",
       "Romanticism Painting            133\n",
       "Surrealism Painting             135\n",
       "Symbolism Painting              136"
      ]
     },
     "execution_count": 12,
     "metadata": {},
     "output_type": "execute_result"
    }
   ],
   "source": [
    "df.loc[df.data.notnull()].groupby('label').count()"
   ]
  },
  {
   "cell_type": "code",
   "execution_count": null,
   "metadata": {},
   "outputs": [],
   "source": []
  }
 ],
 "metadata": {
  "interpreter": {
   "hash": "7ff3c175c11b95c85df630274389b3279231d2fb18a2348df09814119adefa6f"
  },
  "kernelspec": {
   "display_name": "Python 3.7.12 64-bit ('paintingCNN': conda)",
   "language": "python",
   "name": "python3"
  },
  "language_info": {
   "codemirror_mode": {
    "name": "ipython",
    "version": 3
   },
   "file_extension": ".py",
   "mimetype": "text/x-python",
   "name": "python",
   "nbconvert_exporter": "python",
   "pygments_lexer": "ipython3",
   "version": "3.7.12"
  },
  "orig_nbformat": 4
 },
 "nbformat": 4,
 "nbformat_minor": 2
}
